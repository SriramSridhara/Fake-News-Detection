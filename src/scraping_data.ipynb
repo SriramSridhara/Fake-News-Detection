{
 "cells": [
  {
   "cell_type": "code",
   "execution_count": 24,
   "metadata": {},
   "outputs": [],
   "source": [
    "from bs4 import BeautifulSoup\n",
    "import pandas as pd\n",
    "import requests\n",
    "\n",
    "from sklearn.metrics import confusion_matrix \n",
    "from sklearn.model_selection import train_test_split "
   ]
  },
  {
   "cell_type": "markdown",
   "metadata": {},
   "source": [
    "Defining our features"
   ]
  },
  {
   "cell_type": "code",
   "execution_count": 28,
   "metadata": {},
   "outputs": [],
   "source": [
    "authors = []\n",
    "dates = []\n",
    "statements = []\n",
    "sources = []\n",
    "targets = []\n",
    "\n",
    "unique_labels = []"
   ]
  },
  {
   "cell_type": "markdown",
   "metadata": {},
   "source": [
    "Scraping the Website"
   ]
  },
  {
   "cell_type": "code",
   "execution_count": 26,
   "metadata": {},
   "outputs": [],
   "source": [
    "def scrape_website(pageno):\n",
    "    page_num = str(pageno)\n",
    "    url = 'https://www.politifact.com/factchecks/list/?page='+str(pageno)+'&'\n",
    "    webpage = requests.get(url) #making a request to the website\n",
    "    soup = BeautifulSoup(webpage.text,'html.parser')\n",
    "    #get the location of the information\n",
    "    # footer and div are tags\n",
    "    statement_footer = soup.find_all('footer', attrs = {'class':'m-statement__footer'}) #author and data location\n",
    "    statement_quote = soup.find_all('div',attrs={'class':'m-statement__quote'}) #statement location\n",
    "    statement_meta = soup.find_all('div',attrs={'class':'m-statement__meta'}) #source location\n",
    "    statement_target = soup.find_all('div',attrs={'class':'m-statement__meter'}) #Target location (score card)\n",
    "    \n",
    "    #loop through the statement_footer\n",
    "    for i in statement_footer:\n",
    "        link1 = i.text.strip()\n",
    "        name_and_date = link1.split()\n",
    "        first_name = name_and_date[1]\n",
    "        last_name = name_and_date[2]\n",
    "        full_name = first_name+' '+last_name\n",
    "        month = name_and_date[4]\n",
    "        day = name_and_date[5]\n",
    "        year = name_and_date[6]\n",
    "        date = day+' '+month+' '+year\n",
    "        authors.append(full_name)\n",
    "        dates.append(date)\n",
    "       \n",
    "    #loop through statement_quote\n",
    "    for i in statement_quote:\n",
    "        link2 = i.find_all('a')\n",
    "        statement_text = link2[0].text.strip()\n",
    "        statements.append(statement_text) \n",
    "    \n",
    "    #loop through the meta\n",
    "    for i in statement_meta:\n",
    "        link3 = i.find_all('a')\n",
    "        source_text = link3[0].text.strip()\n",
    "        sources.append(source_text)\n",
    "        \n",
    "    #loop through the target\n",
    "    for i in statement_target:\n",
    "        #searching another (div) tag, find (nested)tag 'img', get 'alt' from img tag\n",
    "        link4 = i.find('div',attrs={'class':'c-image'}).find('img').get('alt')\n",
    "        targets.append(link4)"
   ]
  },
  {
   "cell_type": "code",
   "execution_count": 29,
   "metadata": {},
   "outputs": [],
   "source": [
    "n = 34\n",
    "for i in range(1,n+1):\n",
    "    scrape_website(i)\n",
    "\n",
    "#creating the dataframe\n",
    "data = pd.DataFrame(columns=['author','statement','date','source','target'])\n",
    "data['author'] = authors\n",
    "data['statement'] = statements\n",
    "data['date'] = dates\n",
    "data['source'] = sources\n",
    "data['target'] = targets"
   ]
  },
  {
   "cell_type": "code",
   "execution_count": 31,
   "metadata": {},
   "outputs": [
    {
     "name": "stdout",
     "output_type": "stream",
     "text": [
      "1020\n"
     ]
    }
   ],
   "source": [
    "print(len(statements))"
   ]
  },
  {
   "cell_type": "code",
   "execution_count": 32,
   "metadata": {},
   "outputs": [],
   "source": [
    "data.to_csv(\"C:/Users/HP/OneDrive/Desktop/Ram/Projects/Fake News Detection/src/Article_Data.csv\")"
   ]
  },
  {
   "cell_type": "code",
   "execution_count": 33,
   "metadata": {},
   "outputs": [
    {
     "data": {
      "text/html": [
       "<div>\n",
       "<style scoped>\n",
       "    .dataframe tbody tr th:only-of-type {\n",
       "        vertical-align: middle;\n",
       "    }\n",
       "\n",
       "    .dataframe tbody tr th {\n",
       "        vertical-align: top;\n",
       "    }\n",
       "\n",
       "    .dataframe thead th {\n",
       "        text-align: right;\n",
       "    }\n",
       "</style>\n",
       "<table border=\"1\" class=\"dataframe\">\n",
       "  <thead>\n",
       "    <tr style=\"text-align: right;\">\n",
       "      <th></th>\n",
       "      <th>author</th>\n",
       "      <th>statement</th>\n",
       "      <th>date</th>\n",
       "      <th>source</th>\n",
       "      <th>target</th>\n",
       "    </tr>\n",
       "  </thead>\n",
       "  <tbody>\n",
       "    <tr>\n",
       "      <th>0</th>\n",
       "      <td>Maria Briceño</td>\n",
       "      <td>Los incendios en California “han llegado a Tij...</td>\n",
       "      <td>13, January 2025</td>\n",
       "      <td>Facebook posts</td>\n",
       "      <td>false</td>\n",
       "    </tr>\n",
       "    <tr>\n",
       "      <th>1</th>\n",
       "      <td>Jeff Cercone</td>\n",
       "      <td>Video shows people in Los Angeles looting from...</td>\n",
       "      <td>13, January 2025</td>\n",
       "      <td>Instagram posts</td>\n",
       "      <td>pants-fire</td>\n",
       "    </tr>\n",
       "    <tr>\n",
       "      <th>2</th>\n",
       "      <td>Sofia Ahmed</td>\n",
       "      <td>A photo shows a Christian’s home that “miracul...</td>\n",
       "      <td>13, January 2025</td>\n",
       "      <td>Facebook posts</td>\n",
       "      <td>false</td>\n",
       "    </tr>\n",
       "    <tr>\n",
       "      <th>3</th>\n",
       "      <td>Ciara O'Rourke</td>\n",
       "      <td>Image shows former President Barack Obama was ...</td>\n",
       "      <td>13, January 2025</td>\n",
       "      <td>Threads posts</td>\n",
       "      <td>pants-fire</td>\n",
       "    </tr>\n",
       "    <tr>\n",
       "      <th>4</th>\n",
       "      <td>Maria Briceño</td>\n",
       "      <td>Esta imagen muestra los incendios en Californi...</td>\n",
       "      <td>13, January 2025</td>\n",
       "      <td>Facebook posts</td>\n",
       "      <td>false</td>\n",
       "    </tr>\n",
       "    <tr>\n",
       "      <th>5</th>\n",
       "      <td>Madison Czopek</td>\n",
       "      <td>“Blue items that survive” California wildfires...</td>\n",
       "      <td>10, January 2025</td>\n",
       "      <td>Threads posts</td>\n",
       "      <td>false</td>\n",
       "    </tr>\n",
       "    <tr>\n",
       "      <th>6</th>\n",
       "      <td>Maria Briceño</td>\n",
       "      <td>Imagen muestra el letrero de Hollywood en Cali...</td>\n",
       "      <td>10, January 2025</td>\n",
       "      <td>Facebook posts</td>\n",
       "      <td>false</td>\n",
       "    </tr>\n",
       "    <tr>\n",
       "      <th>7</th>\n",
       "      <td>Loreben Tuquero</td>\n",
       "      <td>Video shows a man saving a bunny during the 20...</td>\n",
       "      <td>10, January 2025</td>\n",
       "      <td>Facebook posts</td>\n",
       "      <td>false</td>\n",
       "    </tr>\n",
       "    <tr>\n",
       "      <th>8</th>\n",
       "      <td>Loreben Tuquero</td>\n",
       "      <td>Image shows the Hollywood sign was on fire as ...</td>\n",
       "      <td>10, January 2025</td>\n",
       "      <td>Social Media</td>\n",
       "      <td>false</td>\n",
       "    </tr>\n",
       "    <tr>\n",
       "      <th>9</th>\n",
       "      <td>Ciara O'Rourke</td>\n",
       "      <td>Video shows Dr. Mehmet Oz and rapper Snoop Dog...</td>\n",
       "      <td>10, January 2025</td>\n",
       "      <td>Viral image</td>\n",
       "      <td>false</td>\n",
       "    </tr>\n",
       "  </tbody>\n",
       "</table>\n",
       "</div>"
      ],
      "text/plain": [
       "            author                                          statement  \\\n",
       "0    Maria Briceño  Los incendios en California “han llegado a Tij...   \n",
       "1     Jeff Cercone  Video shows people in Los Angeles looting from...   \n",
       "2      Sofia Ahmed  A photo shows a Christian’s home that “miracul...   \n",
       "3   Ciara O'Rourke  Image shows former President Barack Obama was ...   \n",
       "4    Maria Briceño  Esta imagen muestra los incendios en Californi...   \n",
       "5   Madison Czopek  “Blue items that survive” California wildfires...   \n",
       "6    Maria Briceño  Imagen muestra el letrero de Hollywood en Cali...   \n",
       "7  Loreben Tuquero  Video shows a man saving a bunny during the 20...   \n",
       "8  Loreben Tuquero  Image shows the Hollywood sign was on fire as ...   \n",
       "9   Ciara O'Rourke  Video shows Dr. Mehmet Oz and rapper Snoop Dog...   \n",
       "\n",
       "               date           source      target  \n",
       "0  13, January 2025   Facebook posts       false  \n",
       "1  13, January 2025  Instagram posts  pants-fire  \n",
       "2  13, January 2025   Facebook posts       false  \n",
       "3  13, January 2025    Threads posts  pants-fire  \n",
       "4  13, January 2025   Facebook posts       false  \n",
       "5  10, January 2025    Threads posts       false  \n",
       "6  10, January 2025   Facebook posts       false  \n",
       "7  10, January 2025   Facebook posts       false  \n",
       "8  10, January 2025     Social Media       false  \n",
       "9  10, January 2025      Viral image       false  "
      ]
     },
     "execution_count": 33,
     "metadata": {},
     "output_type": "execute_result"
    }
   ],
   "source": [
    "data.head(10)"
   ]
  },
  {
   "cell_type": "code",
   "execution_count": 35,
   "metadata": {},
   "outputs": [],
   "source": [
    "unique_labels = list(set(data['target']))"
   ]
  },
  {
   "cell_type": "code",
   "execution_count": 36,
   "metadata": {},
   "outputs": [
    {
     "name": "stdout",
     "output_type": "stream",
     "text": [
      "['mostly-true', 'true', 'false', 'barely-true', 'half-true', 'full-flop', 'pants-fire']\n"
     ]
    }
   ],
   "source": [
    "print(unique_labels)"
   ]
  }
 ],
 "metadata": {
  "kernelspec": {
   "display_name": ".venv",
   "language": "python",
   "name": "python3"
  },
  "language_info": {
   "codemirror_mode": {
    "name": "ipython",
    "version": 3
   },
   "file_extension": ".py",
   "mimetype": "text/x-python",
   "name": "python",
   "nbconvert_exporter": "python",
   "pygments_lexer": "ipython3",
   "version": "3.12.6"
  }
 },
 "nbformat": 4,
 "nbformat_minor": 2
}
